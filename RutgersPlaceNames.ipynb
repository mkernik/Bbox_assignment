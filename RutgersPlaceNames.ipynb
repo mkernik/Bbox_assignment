{
  "nbformat": 4,
  "nbformat_minor": 0,
  "metadata": {
    "colab": {
      "provenance": [],
      "authorship_tag": "ABX9TyOlu0I5tcwULkEJTG3YycsY",
      "include_colab_link": true
    },
    "kernelspec": {
      "name": "python3",
      "display_name": "Python 3"
    },
    "language_info": {
      "name": "python"
    }
  },
  "cells": [
    {
      "cell_type": "markdown",
      "metadata": {
        "id": "view-in-github",
        "colab_type": "text"
      },
      "source": [
        "<a href=\"https://colab.research.google.com/github/mkernik/Bbox_assignment/blob/main/RutgersPlaceNames.ipynb\" target=\"_parent\"><img src=\"https://colab.research.google.com/assets/colab-badge.svg\" alt=\"Open In Colab\"/></a>"
      ]
    },
    {
      "cell_type": "code",
      "source": [
        "import pandas as pd\n",
        "from google.colab import files"
      ],
      "metadata": {
        "id": "9-jaOGBU1Hmw"
      },
      "execution_count": null,
      "outputs": []
    },
    {
      "cell_type": "code",
      "execution_count": null,
      "metadata": {
        "colab": {
          "base_uri": "https://localhost:8080/"
        },
        "id": "RQDd9a6WzoG2",
        "outputId": "6f13ce0a-7945-4699-ee0f-429964accfc2"
      },
      "outputs": [
        {
          "output_type": "stream",
          "name": "stdout",
          "text": [
            "Mounted at /content/drive\n"
          ]
        }
      ],
      "source": [
        "from google.colab import drive\n",
        "drive.mount('/content/drive')"
      ]
    },
    {
      "cell_type": "code",
      "source": [
        "%cd /content/drive/My Drive/MetadataSprint/"
      ],
      "metadata": {
        "colab": {
          "base_uri": "https://localhost:8080/"
        },
        "id": "633SVP4J0stU",
        "outputId": "3ecba1d1-acea-4514-bf6e-aff5133a6404"
      },
      "execution_count": null,
      "outputs": [
        {
          "output_type": "stream",
          "name": "stdout",
          "text": [
            "/content/drive/My Drive/MetadataSprint\n"
          ]
        }
      ]
    },
    {
      "cell_type": "code",
      "source": [
        "df = pd.read_csv(\"RutgersSpatialCoverage.csv\")"
      ],
      "metadata": {
        "id": "q9dP1KKe0939"
      },
      "execution_count": null,
      "outputs": []
    },
    {
      "cell_type": "code",
      "source": [
        "place_names = dict(zip(df.geoportal_id, df.SpatialCoverage))\n",
        "print(place_names)"
      ],
      "metadata": {
        "id": "bsFgISr24agV"
      },
      "execution_count": null,
      "outputs": []
    },
    {
      "cell_type": "code",
      "source": [
        "df2 = pd.read_csv(\"NJCountyBBox_simple.csv\")"
      ],
      "metadata": {
        "id": "WYelxVjamwXt"
      },
      "execution_count": null,
      "outputs": []
    },
    {
      "cell_type": "code",
      "source": [
        "df2.head()\n",
        "NJ_counties_dict = dict(zip(df2.CountyName, df2.BoundingBox))\n",
        "print(NJ_counties_dict)"
      ],
      "metadata": {
        "id": "w9C3KznnnCOJ"
      },
      "execution_count": null,
      "outputs": []
    },
    {
      "cell_type": "code",
      "source": [
        "for county in NJ_counties_dict.keys():\n",
        "  print (county)"
      ],
      "metadata": {
        "colab": {
          "base_uri": "https://localhost:8080/"
        },
        "id": "XG-DWF4Np4Vb",
        "outputId": "bb1463c4-157c-48b5-d40f-3f6cff9dfb8f"
      },
      "execution_count": null,
      "outputs": [
        {
          "output_type": "stream",
          "name": "stdout",
          "text": [
            "Atlantic\n",
            "Bergen\n",
            "Burlington\n",
            "Camden\n",
            "Cape May\n",
            "Cumberland\n",
            "Essex\n",
            "Gloucester\n",
            "Hudson\n",
            "Hunterdon\n",
            "Mercer\n",
            "Middlesex\n",
            "Monmouth\n",
            "Morris\n",
            "Ocean\n",
            "Passaic\n",
            "Salem\n",
            "Somerset\n",
            "Sussex\n",
            "Union\n",
            "Warren\n"
          ]
        }
      ]
    },
    {
      "cell_type": "code",
      "source": [
        "df3 = pd.read_csv(\"NJ_Muni_Bbox_Extents.csv\")"
      ],
      "metadata": {
        "id": "iJVkq_eV9Pm6"
      },
      "execution_count": null,
      "outputs": []
    },
    {
      "cell_type": "code",
      "source": [
        "df3.head()\n",
        "NJ_muni = dict(zip(df3.MUN_LABEL, df3.bbox))\n",
        "print(NJ_muni)"
      ],
      "metadata": {
        "id": "mgBUJslp9l1B"
      },
      "execution_count": null,
      "outputs": []
    },
    {
      "cell_type": "code",
      "source": [
        "df3.head()\n",
        "NJ_alt_muni = dict(zip(df3.NAME, df3.bbox))\n",
        "print(NJ_alt_muni)"
      ],
      "metadata": {
        "id": "d7JyU0qXgCwh"
      },
      "execution_count": null,
      "outputs": []
    },
    {
      "cell_type": "markdown",
      "source": [
        "**Matching municipalities**"
      ],
      "metadata": {
        "id": "97XaG7RIQ4tZ"
      }
    },
    {
      "cell_type": "code",
      "source": [
        "muni_count = {}\n",
        "#index = 0\n",
        "for key, value in place_names.items():\n",
        "  #index += 1\n",
        "  match = []\n",
        "  multi_term = value.split(\"|\")\n",
        "  for term in multi_term:  \n",
        "    for muni in NJ_muni.keys():\n",
        "      if muni in term:\n",
        "        match.append(muni)\n",
        "  unique = list(set(match))\n",
        "  if len(unique) == 1:\n",
        "    for x in match:\n",
        "      muni_count[key] = [value, len(unique), x, NJ_muni[x]]\n",
        "  else:\n",
        "    muni_count[key] = [value, len(unique), \"\", \"\"]\n",
        "print (len(muni_count))"
      ],
      "metadata": {
        "colab": {
          "base_uri": "https://localhost:8080/"
        },
        "id": "ok781I71_uAS",
        "outputId": "40b83d14-6a7e-4b29-902d-92f7b4c0cb4f"
      },
      "execution_count": null,
      "outputs": [
        {
          "output_type": "stream",
          "name": "stdout",
          "text": [
            "4579\n"
          ]
        }
      ]
    },
    {
      "cell_type": "code",
      "source": [
        "muni_df = pd.DataFrame.from_dict(muni_count, orient = \"index\")\n",
        "muni_df.to_csv('MatchingMunicipalities.csv')\n",
        "files.download(\"MatchingMunicipalities.csv\")"
      ],
      "metadata": {
        "colab": {
          "base_uri": "https://localhost:8080/",
          "height": 17
        },
        "outputId": "1bac2100-7f21-45cb-bb5e-60ca6f7c5e60",
        "id": "Ta2NhPhdA2xy"
      },
      "execution_count": null,
      "outputs": [
        {
          "output_type": "display_data",
          "data": {
            "text/plain": [
              "<IPython.core.display.Javascript object>"
            ],
            "application/javascript": [
              "\n",
              "    async function download(id, filename, size) {\n",
              "      if (!google.colab.kernel.accessAllowed) {\n",
              "        return;\n",
              "      }\n",
              "      const div = document.createElement('div');\n",
              "      const label = document.createElement('label');\n",
              "      label.textContent = `Downloading \"${filename}\": `;\n",
              "      div.appendChild(label);\n",
              "      const progress = document.createElement('progress');\n",
              "      progress.max = size;\n",
              "      div.appendChild(progress);\n",
              "      document.body.appendChild(div);\n",
              "\n",
              "      const buffers = [];\n",
              "      let downloaded = 0;\n",
              "\n",
              "      const channel = await google.colab.kernel.comms.open(id);\n",
              "      // Send a message to notify the kernel that we're ready.\n",
              "      channel.send({})\n",
              "\n",
              "      for await (const message of channel.messages) {\n",
              "        // Send a message to notify the kernel that we're ready.\n",
              "        channel.send({})\n",
              "        if (message.buffers) {\n",
              "          for (const buffer of message.buffers) {\n",
              "            buffers.push(buffer);\n",
              "            downloaded += buffer.byteLength;\n",
              "            progress.value = downloaded;\n",
              "          }\n",
              "        }\n",
              "      }\n",
              "      const blob = new Blob(buffers, {type: 'application/binary'});\n",
              "      const a = document.createElement('a');\n",
              "      a.href = window.URL.createObjectURL(blob);\n",
              "      a.download = filename;\n",
              "      div.appendChild(a);\n",
              "      a.click();\n",
              "      div.remove();\n",
              "    }\n",
              "  "
            ]
          },
          "metadata": {}
        },
        {
          "output_type": "display_data",
          "data": {
            "text/plain": [
              "<IPython.core.display.Javascript object>"
            ],
            "application/javascript": [
              "download(\"download_f6d5f31f-dc82-431c-b4d5-d6b723f5fee0\", \"MatchingMunicipalities.csv\", 426084)"
            ]
          },
          "metadata": {}
        }
      ]
    },
    {
      "cell_type": "markdown",
      "source": [
        "**Matching Counties**"
      ],
      "metadata": {
        "id": "ikVe_8zaReHN"
      }
    },
    {
      "cell_type": "code",
      "source": [
        "count = {}\n",
        "#index = 0\n",
        "for key, value in place_names.items():\n",
        "  #index += 1\n",
        "  match = []\n",
        "  multi_term = value.split(\"|\")\n",
        "  for term in multi_term:\n",
        "    for county in NJ_counties_dict.keys():\n",
        "      if (county + \" County\") in term:\n",
        "      #if county in term:\n",
        "        match.append(county)\n",
        "  unique = list(set(match))\n",
        "  if len(unique) == 1:\n",
        "    for x in match:\n",
        "      count[key] = [value, len(unique), x, NJ_counties_dict[x]]\n",
        "  else:\n",
        "    count[key] = [value, len(unique), \"\", \"\"]\n",
        "print (len(count))"
      ],
      "metadata": {
        "colab": {
          "base_uri": "https://localhost:8080/"
        },
        "id": "4HhxyXKn7eo2",
        "outputId": "7ad5da28-bd70-4ce7-b7d9-57c09d98d80f"
      },
      "execution_count": null,
      "outputs": [
        {
          "output_type": "stream",
          "name": "stdout",
          "text": [
            "4579\n"
          ]
        }
      ]
    },
    {
      "cell_type": "code",
      "source": [
        "new_df = pd.DataFrame.from_dict(count, orient = \"index\")\n",
        "new_df.to_csv('MatchingCounties.csv')\n",
        "files.download(\"MatchingCounties.csv\")"
      ],
      "metadata": {
        "colab": {
          "base_uri": "https://localhost:8080/",
          "height": 17
        },
        "id": "9U-eueLL8cJU",
        "outputId": "5e3d4b6d-10ad-4bfb-abb0-1bcb2fe01152"
      },
      "execution_count": null,
      "outputs": [
        {
          "output_type": "display_data",
          "data": {
            "text/plain": [
              "<IPython.core.display.Javascript object>"
            ],
            "application/javascript": [
              "\n",
              "    async function download(id, filename, size) {\n",
              "      if (!google.colab.kernel.accessAllowed) {\n",
              "        return;\n",
              "      }\n",
              "      const div = document.createElement('div');\n",
              "      const label = document.createElement('label');\n",
              "      label.textContent = `Downloading \"${filename}\": `;\n",
              "      div.appendChild(label);\n",
              "      const progress = document.createElement('progress');\n",
              "      progress.max = size;\n",
              "      div.appendChild(progress);\n",
              "      document.body.appendChild(div);\n",
              "\n",
              "      const buffers = [];\n",
              "      let downloaded = 0;\n",
              "\n",
              "      const channel = await google.colab.kernel.comms.open(id);\n",
              "      // Send a message to notify the kernel that we're ready.\n",
              "      channel.send({})\n",
              "\n",
              "      for await (const message of channel.messages) {\n",
              "        // Send a message to notify the kernel that we're ready.\n",
              "        channel.send({})\n",
              "        if (message.buffers) {\n",
              "          for (const buffer of message.buffers) {\n",
              "            buffers.push(buffer);\n",
              "            downloaded += buffer.byteLength;\n",
              "            progress.value = downloaded;\n",
              "          }\n",
              "        }\n",
              "      }\n",
              "      const blob = new Blob(buffers, {type: 'application/binary'});\n",
              "      const a = document.createElement('a');\n",
              "      a.href = window.URL.createObjectURL(blob);\n",
              "      a.download = filename;\n",
              "      div.appendChild(a);\n",
              "      a.click();\n",
              "      div.remove();\n",
              "    }\n",
              "  "
            ]
          },
          "metadata": {}
        },
        {
          "output_type": "display_data",
          "data": {
            "text/plain": [
              "<IPython.core.display.Javascript object>"
            ],
            "application/javascript": [
              "download(\"download_1c09206f-cfab-43ab-9aa5-ee4eb941ab50\", \"MatchingCounties.csv\", 566106)"
            ]
          },
          "metadata": {}
        }
      ]
    },
    {
      "cell_type": "markdown",
      "source": [
        "**Combining matching municipalities and counties**"
      ],
      "metadata": {
        "id": "kIE4GOYORh30"
      }
    },
    {
      "cell_type": "code",
      "source": [
        "count = {}\n",
        "for key, value in place_names.items():\n",
        "  muni_match = []\n",
        "  multi_term = value.split(\"|\")\n",
        "  for term in multi_term:  \n",
        "    for muni in NJ_muni.keys():\n",
        "      if muni in term:\n",
        "        muni_match.append(muni)\n",
        "  muni_unique = list(set(muni_match))\n",
        "  if len(muni_unique) == 1:\n",
        "    for x in muni_match:\n",
        "      count[key] = [value, len(muni_unique), x, NJ_muni[x],\"\",\"\",\"\"]\n",
        "  else:\n",
        "    county_match = []\n",
        "    for term in multi_term:\n",
        "      for county in NJ_counties_dict.keys():\n",
        "        if (county + \" County\") in term:\n",
        "          county_match.append(county)\n",
        "    county_unique = list(set(county_match))\n",
        "    if len(county_unique) == 1:\n",
        "      for y in county_match:\n",
        "        count[key] = [value, len(muni_unique), \"\", \"\", len(county_unique), y, NJ_counties_dict[y]]\n",
        "    else:\n",
        "      count[key] = [value, len(muni_unique), \"\", \"\", len(county_unique), \"\", \"\"]\n",
        "print (len(count))\n"
      ],
      "metadata": {
        "colab": {
          "base_uri": "https://localhost:8080/"
        },
        "id": "hwoosmzjHPMO",
        "outputId": "5c237b55-1dac-4987-f966-59ec11542cb9"
      },
      "execution_count": null,
      "outputs": [
        {
          "output_type": "stream",
          "name": "stdout",
          "text": [
            "4579\n"
          ]
        }
      ]
    },
    {
      "cell_type": "markdown",
      "source": [
        "**Additional attempts to match municipalities** "
      ],
      "metadata": {
        "id": "YfyAmab4RpAN"
      }
    },
    {
      "cell_type": "code",
      "source": [
        "count = {}\n",
        "alt_count ={}\n",
        "unmatched = {}\n",
        "for key, value in place_names.items():\n",
        "  muni_match = []\n",
        "  multi_term = value.split(\"|\")\n",
        "  for term in multi_term:  \n",
        "    for muni in NJ_muni.keys():\n",
        "      if muni in term:\n",
        "        muni_match.append(muni)\n",
        "  muni_unique = list(set(muni_match))\n",
        "  if len(muni_unique) == 1:\n",
        "    for x in muni_match:\n",
        "      count[key] = [value, \"Municipal\", x, NJ_muni[x]]\n",
        "  else:\n",
        "    county_match = []\n",
        "    for term in multi_term:\n",
        "      for county in NJ_counties_dict.keys():\n",
        "        if (county + \" County\") in term:\n",
        "          county_match.append(county)\n",
        "    county_unique = list(set(county_match))\n",
        "    if len(county_unique) == 1:\n",
        "      for y in county_match:\n",
        "        count[key] = [value, \"County\", y, NJ_counties_dict[y]]\n",
        "    else:\n",
        "      alt_muni_match = []\n",
        "      for term in multi_term:  \n",
        "        for alt_muni in NJ_alt_muni.keys():\n",
        "          if (alt_muni + \", New Jersey\") in term:\n",
        "            alt_muni_match.append(alt_muni)\n",
        "          else:\n",
        "            alt_muni_not = alt_muni.replace(\" Township\", \"\")\n",
        "            alt_muni_nob = alt_muni_not.replace(\" Borough\", \"\")\n",
        "            if (alt_muni_nob + \", New Jersey\") in term:\n",
        "              alt_muni_match.append(alt_muni)\n",
        "      alt_muni_unique = list(set(alt_muni_match))\n",
        "      if len(alt_muni_unique) == 1:\n",
        "        if len(county_unique) < 2:\n",
        "          for z in alt_muni_match:\n",
        "            alt_count[key] = [value, \"Municipal\", z, NJ_alt_muni[z]]\n",
        "      else:\n",
        "        unmatched[key] = [value, len(muni_unique), len(county_unique)]\n",
        "print (len(count))\n",
        "print (len(alt_count))\n",
        "print (len(unmatched))"
      ],
      "metadata": {
        "colab": {
          "base_uri": "https://localhost:8080/"
        },
        "id": "r2QGvyqUY7-X",
        "outputId": "00534b00-652b-48d9-f819-aa2f0bad9109"
      },
      "execution_count": null,
      "outputs": [
        {
          "output_type": "stream",
          "name": "stdout",
          "text": [
            "3319\n",
            "303\n",
            "942\n"
          ]
        }
      ]
    },
    {
      "cell_type": "markdown",
      "source": [
        "**Code to download resulting CSVs**"
      ],
      "metadata": {
        "id": "o7CYLXXqSWZx"
      }
    },
    {
      "cell_type": "code",
      "source": [
        "combine_df = pd.DataFrame.from_dict(count, orient = \"index\")\n",
        "combine_df.to_csv('MatchingMuniAndCounties.csv')\n",
        "files.download(\"MatchingMuniAndCounties.csv\")"
      ],
      "metadata": {
        "id": "q_OtIUSjJugD"
      },
      "execution_count": null,
      "outputs": []
    },
    {
      "cell_type": "code",
      "source": [
        "print(len(unmatched))\n",
        "unmatched_df = pd.DataFrame.from_dict(unmatched, orient = \"index\")\n",
        "unmatched_df.to_csv('UnMatchedPlaces.csv')\n",
        "files.download(\"UnMatchedPlaces.csv\")"
      ],
      "metadata": {
        "id": "tLH9qylMZmnO"
      },
      "execution_count": null,
      "outputs": []
    },
    {
      "cell_type": "code",
      "source": [
        "alt_matched_df = pd.DataFrame.from_dict(alt_count, orient = \"index\")\n",
        "alt_matched_df.to_csv('Alternative_MatchedPlaces.csv')\n",
        "files.download(\"Alternative_MatchedPlaces.csv\")"
      ],
      "metadata": {
        "colab": {
          "base_uri": "https://localhost:8080/",
          "height": 17
        },
        "id": "CvYTXIepiLGH",
        "outputId": "b491edfc-d129-4153-b80e-0224d801cc0f"
      },
      "execution_count": null,
      "outputs": [
        {
          "output_type": "display_data",
          "data": {
            "text/plain": [
              "<IPython.core.display.Javascript object>"
            ],
            "application/javascript": [
              "\n",
              "    async function download(id, filename, size) {\n",
              "      if (!google.colab.kernel.accessAllowed) {\n",
              "        return;\n",
              "      }\n",
              "      const div = document.createElement('div');\n",
              "      const label = document.createElement('label');\n",
              "      label.textContent = `Downloading \"${filename}\": `;\n",
              "      div.appendChild(label);\n",
              "      const progress = document.createElement('progress');\n",
              "      progress.max = size;\n",
              "      div.appendChild(progress);\n",
              "      document.body.appendChild(div);\n",
              "\n",
              "      const buffers = [];\n",
              "      let downloaded = 0;\n",
              "\n",
              "      const channel = await google.colab.kernel.comms.open(id);\n",
              "      // Send a message to notify the kernel that we're ready.\n",
              "      channel.send({})\n",
              "\n",
              "      for await (const message of channel.messages) {\n",
              "        // Send a message to notify the kernel that we're ready.\n",
              "        channel.send({})\n",
              "        if (message.buffers) {\n",
              "          for (const buffer of message.buffers) {\n",
              "            buffers.push(buffer);\n",
              "            downloaded += buffer.byteLength;\n",
              "            progress.value = downloaded;\n",
              "          }\n",
              "        }\n",
              "      }\n",
              "      const blob = new Blob(buffers, {type: 'application/binary'});\n",
              "      const a = document.createElement('a');\n",
              "      a.href = window.URL.createObjectURL(blob);\n",
              "      a.download = filename;\n",
              "      div.appendChild(a);\n",
              "      a.click();\n",
              "      div.remove();\n",
              "    }\n",
              "  "
            ]
          },
          "metadata": {}
        },
        {
          "output_type": "display_data",
          "data": {
            "text/plain": [
              "<IPython.core.display.Javascript object>"
            ],
            "application/javascript": [
              "download(\"download_9690e73c-9835-488e-bf89-e91dc5a753bf\", \"Alternative_MatchedPlaces.csv\", 37299)"
            ]
          },
          "metadata": {}
        }
      ]
    },
    {
      "cell_type": "markdown",
      "source": [
        "Work still to do:\n",
        "*   Look at Kalan's process for matching with Geonames\n",
        "*   Look for more opportunities with unmatched places and better matching for records that only matched with county"
      ],
      "metadata": {
        "id": "uBx1FgGxKYRN"
      }
    },
    {
      "cell_type": "markdown",
      "source": [
        "\n",
        "Total records: 4579\n",
        "\n",
        "*   1257 don't have \"[Name] County\"  (27%)\n",
        "*   3168 have only one \"[Name] County\" (69%)\n",
        "*   154 has more than one \"[Name] County\" (3%)\n",
        "\n",
        "---\n",
        "\n",
        "*   515 don't have one of the named counties in their keyword list  (11%)\n",
        "*   3658 have only one of the named counties in their keyword list  (80%)\n",
        "*   406 have more than one of the named counties in their keyword list (9%)\n",
        "\n",
        "\n",
        "\n",
        "---\n",
        "combined county/muni 9/29/2022 end of day\n",
        "\n",
        "1137 no match muni or county (24%)\n",
        "789 have only one match MUNI_LABEL (17%)\n",
        "2530 have only one \"[Name] County\" (55%)\n",
        "123 match with more than one \"[Name] County\" (2-3%)"
      ],
      "metadata": {
        "id": "SXBEKVThRFdA"
      }
    }
  ]
}